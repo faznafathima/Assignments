{
  "nbformat": 4,
  "nbformat_minor": 0,
  "metadata": {
    "colab": {
      "provenance": []
    },
    "kernelspec": {
      "name": "python3",
      "display_name": "Python 3"
    },
    "language_info": {
      "name": "python"
    }
  },
  "cells": [
    {
      "cell_type": "markdown",
      "source": [
        "# **ARTICLE RECOMMENDATION**"
      ],
      "metadata": {
        "id": "xk_CjRohX2nc"
      }
    },
    {
      "cell_type": "code",
      "source": [
        "#importing necessary libraries\n",
        "import pandas as pd\n",
        "from sklearn.feature_extraction.text import TfidfVectorizer\n",
        "from sklearn.metrics.pairwise import linear_kernel"
      ],
      "metadata": {
        "id": "MhWjqlhMXYP3"
      },
      "execution_count": 1,
      "outputs": []
    },
    {
      "cell_type": "code",
      "source": [
        "#loading data\n",
        "data = pd.read_csv(r'/content/drive/MyDrive/article_info.csv')"
      ],
      "metadata": {
        "id": "so9qavHxXYFD"
      },
      "execution_count": 3,
      "outputs": []
    },
    {
      "cell_type": "code",
      "source": [
        "tf = TfidfVectorizer(analyzer='word', ngram_range=(1, 3), min_df=0, stop_wordata='english')\n",
        "\n",
        "tfidf_matrix = tf.fit_transform(data['title'])\n",
        "cosine_similarities = linear_kernel(tfidf_matrix, tfidf_matrix)\n",
        "results = {} # dictionary created to store the result in a dictionary format (ID : (Score,item_id))#\n"
      ],
      "metadata": {
        "id": "_0hT5WLyXtG2"
      },
      "execution_count": 7,
      "outputs": []
    },
    {
      "cell_type": "code",
      "source": [
        "for idx, row in data.iterrows(): #iterates through all the rows\n",
        "# the below code 'similar_indice' stores similar idata based on cosine similarity. sorts them in ascending order. [:-5:-1] is then used so that the indices with most similarity are got. 0 means no similarity and 1 means perfect similarity#\n",
        "    similar_indices = cosine_similarities[idx].argsort()[::-1] \n",
        "\n",
        "    #stores 5 most similar books, you can change it as per your needata\n",
        "    similar_items = [(cosine_similarities[idx][i], data['article_id'][i]) for i in similar_indices]\n",
        "    results[row['article_id']] = similar_items[1:]"
      ],
      "metadata": {
        "id": "3p9BQhUPXtSk"
      },
      "execution_count": 8,
      "outputs": []
    },
    {
      "cell_type": "code",
      "execution_count": 9,
      "metadata": {
        "colab": {
          "base_uri": "https://localhost:8080/"
        },
        "id": "J3vojoCwW6cp",
        "outputId": "752969d0-b559-472d-b490-b0b8e4499d77"
      },
      "outputs": [
        {
          "output_type": "stream",
          "name": "stdout",
          "text": [
            "Recommending 3 books similar to Architectures sans serveur\n",
            "----------------------------------------------------------\n",
            "You may also like to read: Présentation de LambCI - un système de construction sans serveur (score:0.23148120758700197)\n",
            "You may also like to read: Création de microservices événementiels à l'aide de CQRS et sans serveur (score:0.19657928153222654)\n",
            "You may also like to read: Architecture en temps réel sans serveur sur AWS: il existe un moyen! (score:0.16951698619853514)\n"
          ]
        }
      ],
      "source": [
        "#below code 'function item(id)' returns a row matching the id along with Book Title. Initially it is a dataframe, then we convert it to a list#\n",
        "def item(id):\n",
        "    return data.loc[data['article_id'] == id]['title'].tolist()[0]\n",
        "def recommend(id, num):\n",
        "    if (num == 0):\n",
        "        print(\"Unable to recommend any book as you have not chosen the number of book to be recommended\")\n",
        "    elif (num==1):\n",
        "        print(\"Recommending \" + str(num) + \" book similar to \" + item(id))\n",
        "        \n",
        "    else :\n",
        "        print(\"Recommending \" + str(num) + \" books similar to \" + item(id))\n",
        "        \n",
        "    print(\"----------------------------------------------------------\")\n",
        "    recs = results[id][:num]\n",
        "    for rec in recs:\n",
        "        print(\"You may also like to read: \" + item(rec[1]) + \" (score:\" + str(rec[0]) + \")\")\n",
        "\n",
        "#the first argument in the below function to be passed is the id of the book, second argument is the number of books you want to be recommended#\n",
        "recommend(1175,3)"
      ]
    },
    {
      "cell_type": "markdown",
      "source": [
        "\n",
        "\n",
        "---\n",
        "\n"
      ],
      "metadata": {
        "id": "eDp73q2iZrGq"
      }
    }
  ]
}